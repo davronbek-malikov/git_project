version https://git-lfs.github.com/spec/v1
oid sha256:73ea10bfd1d4f2a201145b9919d50244a0a5d80aaa8fc3f7ef150cccd124d47a
size 12774

version https://git-lfs.github.com/spec/v1
oid sha256:4a774dd5a606aa360aaa5e2eb6958df965526282518f4004f4ade1c75bb62e05
size 348
